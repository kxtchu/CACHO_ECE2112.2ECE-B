{
 "cells": [
  {
   "cell_type": "markdown",
   "id": "ceb91f1b-fb45-41ec-a9df-a3e38e1bcba8",
   "metadata": {},
   "source": [
    "<h1 style=\"text-align: center;\">NATHAN JOSH CACHO - PA #2</h1>"
   ]
  },
  {
   "cell_type": "markdown",
   "id": "a1a80c50-0a71-4337-b28c-5629626307a6",
   "metadata": {},
   "source": [
    "# Normalization Problem"
   ]
  },
  {
   "cell_type": "code",
   "execution_count": 1,
   "id": "82822133-c7d6-406e-bf78-d98817f8cb96",
   "metadata": {},
   "outputs": [],
   "source": [
    "import numpy as np"
   ]
  },
  {
   "cell_type": "code",
   "execution_count": 5,
   "id": "23aa788b-1e07-47e7-9617-869960362330",
   "metadata": {},
   "outputs": [
    {
     "name": "stdout",
     "output_type": "stream",
     "text": [
      "Normalized 5x5 array saved as X_normalized.npy\n",
      "[[ 0.01205117  0.30059692 -0.53222337  0.27768585  0.14647388]\n",
      " [-0.50642768  0.62792237 -1.65837186  0.06351937  1.25981967]\n",
      " [-0.25328151 -1.96669214 -0.15493423 -1.5730305   1.17411716]\n",
      " [ 0.58845525  0.91303565  0.96224187 -0.72155056  1.11897323]\n",
      " [-1.10103274  1.44271811  1.48514568 -0.43603733 -1.46917427]]\n"
     ]
    }
   ],
   "source": [
    "x = np.random.rand(5,5)\n",
    "x_mean = mean = x.mean()\n",
    "x_std = x.std()\n",
    "z = (x - x_mean)/x_std\n",
    "\n",
    "np.save(\"x_normalized.npy\",z)\n",
    "\n",
    "print(\"Normalized 5x5 array saved as X_normalized.npy\")\n",
    "print(z)"
   ]
  },
  {
   "cell_type": "markdown",
   "id": "497ea572-b449-4551-9933-d90f35131070",
   "metadata": {},
   "source": [
    "# Divisible by 3 Problem"
   ]
  },
  {
   "cell_type": "code",
   "execution_count": 6,
   "id": "10240243-22aa-46df-aad8-3d2097619493",
   "metadata": {},
   "outputs": [
    {
     "name": "stdout",
     "output_type": "stream",
     "text": [
      "\n",
      "10x10 array of squares:\n",
      "[[    1     4     9    16    25    36    49    64    81   100]\n",
      " [  121   144   169   196   225   256   289   324   361   400]\n",
      " [  441   484   529   576   625   676   729   784   841   900]\n",
      " [  961  1024  1089  1156  1225  1296  1369  1444  1521  1600]\n",
      " [ 1681  1764  1849  1936  2025  2116  2209  2304  2401  2500]\n",
      " [ 2601  2704  2809  2916  3025  3136  3249  3364  3481  3600]\n",
      " [ 3721  3844  3969  4096  4225  4356  4489  4624  4761  4900]\n",
      " [ 5041  5184  5329  5476  5625  5776  5929  6084  6241  6400]\n",
      " [ 6561  6724  6889  7056  7225  7396  7569  7744  7921  8100]\n",
      " [ 8281  8464  8649  8836  9025  9216  9409  9604  9801 10000]]\n",
      "\n",
      "Elements divisible by 3 saved as div.npy\n",
      "[   9   36   81  144  225  324  441  576  729  900 1089 1296 1521 1764\n",
      " 2025 2304 2601 2916 3249 3600 3969 4356 4761 5184 5625 6084 6561 7056\n",
      " 7569 8100 8649 9216 9801]\n"
     ]
    }
   ],
   "source": [
    "A = np.arange(1, 101) ** 2\n",
    "A = A.reshape(10,10)\n",
    "\n",
    "div = A[A % 3 == 0]\n",
    "np.save(\"div.npy\", div)\n",
    "\n",
    "print(\"\\n10x10 array of squares:\")\n",
    "print(A)\n",
    "print(\"\\nElements divisible by 3 saved as div.npy\")\n",
    "print(div)"
   ]
  },
  {
   "cell_type": "code",
   "execution_count": null,
   "id": "dd9443bb-9470-422e-ae4e-e9c0a02d06ad",
   "metadata": {},
   "outputs": [],
   "source": []
  }
 ],
 "metadata": {
  "kernelspec": {
   "display_name": "Python [conda env:base] *",
   "language": "python",
   "name": "conda-base-py"
  },
  "language_info": {
   "codemirror_mode": {
    "name": "ipython",
    "version": 3
   },
   "file_extension": ".py",
   "mimetype": "text/x-python",
   "name": "python",
   "nbconvert_exporter": "python",
   "pygments_lexer": "ipython3",
   "version": "3.13.5"
  }
 },
 "nbformat": 4,
 "nbformat_minor": 5
}
