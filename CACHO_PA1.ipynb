{
 "cells": [
  {
   "cell_type": "markdown",
   "id": "764277cd-d8e3-47eb-af0e-1e8a0c33821d",
   "metadata": {},
   "source": [
    "<h1 style=\"text-align: center;\">NATHAN JOSH CACHO - PA #1</h1>"
   ]
  },
  {
   "cell_type": "markdown",
   "id": "59c73f55-0cf0-424b-9a10-d1710e4d7320",
   "metadata": {},
   "source": [
    "# ALPHABET SOUP PROBLEM"
   ]
  },
  {
   "cell_type": "code",
   "execution_count": 11,
   "id": "f07c9b18-9091-42dc-9e39-265e5ccdd349",
   "metadata": {},
   "outputs": [
    {
     "name": "stdin",
     "output_type": "stream",
     "text": [
      "Enter a word:  hello\n"
     ]
    },
    {
     "name": "stdout",
     "output_type": "stream",
     "text": [
      "Result:  ehllo\n"
     ]
    }
   ],
   "source": [
    "def alphabetSoup(userinput):\n",
    "        return ''.join(sorted(userinput))\n",
    "        \n",
    "text = input(\"Enter a word: \")\n",
    "print(\"Result: \", alphabetSoup(text))"
   ]
  },
  {
   "cell_type": "markdown",
   "id": "1f33af06-8a81-40de-a040-26bef4d84f9a",
   "metadata": {},
   "source": [
    "# EMOTICON PROBLEM"
   ]
  },
  {
   "cell_type": "code",
   "execution_count": 27,
   "id": "8d22eb72-2b21-48b9-8d6e-a59bcc1e22fa",
   "metadata": {},
   "outputs": [
    {
     "name": "stdin",
     "output_type": "stream",
     "text": [
      "Enter a sentence:  I WANT TO SMILE BUT I AM SAD\n"
     ]
    },
    {
     "name": "stdout",
     "output_type": "stream",
     "text": [
      "Result: I WANT TO :) BUT I AM :((\n"
     ]
    }
   ],
   "source": [
    "def emote(sentence):\n",
    "    emoticons = { \n",
    "        \"smile\" : \":)\",\n",
    "        \"grin\": \":D\",\n",
    "        \"sad\": \":((\",\n",
    "        \"Mad\": \">:(\"\n",
    "    }\n",
    "    for word, emoji in emoticons.items():\n",
    "        sentence = sentence.replace(word, emoji).replace(word.capitalize(), emoji).replace(word.upper(), emoji)\n",
    "    return sentence\n",
    "\n",
    "userinput = input(\"Enter a sentence: \")\n",
    "print(\"Result:\", emote(userinput))"
   ]
  },
  {
   "cell_type": "markdown",
   "id": "f832e2a8-242e-478b-8059-496dbc2cf25b",
   "metadata": {},
   "source": [
    "# UNPACKING LIST PROBLEM"
   ]
  },
  {
   "cell_type": "code",
   "execution_count": 31,
   "id": "5c659731-cf3a-4829-a9cc-cb211769fd91",
   "metadata": {},
   "outputs": [
    {
     "name": "stdout",
     "output_type": "stream",
     "text": [
      "First:  1\n",
      "Middle:  [2, 3, 4, 5]\n",
      "Last:  6\n"
     ]
    }
   ],
   "source": [
    "num = [1, 2, 3, 4, 5, 6]\n",
    "\n",
    "first = num[0]\n",
    "mid = num[1:-1]\n",
    "last = num[-1]\n",
    "\n",
    "print(\"First: \", first)\n",
    "print(\"Middle: \", mid)\n",
    "print(\"Last: \", last)"
   ]
  },
  {
   "cell_type": "code",
   "execution_count": null,
   "id": "d75054fa-2eff-460f-8f2c-882795ccd1cd",
   "metadata": {},
   "outputs": [],
   "source": []
  }
 ],
 "metadata": {
  "kernelspec": {
   "display_name": "Python [conda env:base] *",
   "language": "python",
   "name": "conda-base-py"
  },
  "language_info": {
   "codemirror_mode": {
    "name": "ipython",
    "version": 3
   },
   "file_extension": ".py",
   "mimetype": "text/x-python",
   "name": "python",
   "nbconvert_exporter": "python",
   "pygments_lexer": "ipython3",
   "version": "3.13.5"
  }
 },
 "nbformat": 4,
 "nbformat_minor": 5
}
